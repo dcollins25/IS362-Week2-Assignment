{
 "cells": [
  {
   "cell_type": "code",
   "execution_count": 2,
   "id": "b2a68917",
   "metadata": {},
   "outputs": [],
   "source": [
    "# Dan Collins - IS362 - W2"
   ]
  },
  {
   "cell_type": "code",
   "execution_count": null,
   "id": "b7320d1d",
   "metadata": {},
   "outputs": [],
   "source": [
    "# This notebook will show how to use the orderedDict subclass of the Dict data structure."
   ]
  },
  {
   "cell_type": "code",
   "execution_count": null,
   "id": "55e6f3a0",
   "metadata": {},
   "outputs": [],
   "source": [
    "# The orderedDict dictionary subclass will be imported from the collections module."
   ]
  },
  {
   "cell_type": "code",
   "execution_count": 6,
   "id": "3b8d9f01",
   "metadata": {},
   "outputs": [],
   "source": [
    "from collections import OrderedDict"
   ]
  },
  {
   "cell_type": "code",
   "execution_count": 7,
   "id": "d02b6221",
   "metadata": {},
   "outputs": [],
   "source": [
    "# We will begin by creating an empty OrderedDict and add some key-value pairs"
   ]
  },
  {
   "cell_type": "code",
   "execution_count": 9,
   "id": "9e0b227c",
   "metadata": {},
   "outputs": [],
   "source": [
    "ordered_dict = OrderedDict()\n",
    "ordered_dict['apple'] = 3\n",
    "ordered_dict['banana'] = 2\n",
    "ordered_dict['cherry'] = 5\n",
    "ordered_dict['orange'] = 1"
   ]
  },
  {
   "cell_type": "code",
   "execution_count": 10,
   "id": "eb51ca43",
   "metadata": {},
   "outputs": [
    {
     "name": "stdout",
     "output_type": "stream",
     "text": [
      "OrderedDict([('apple', 3), ('banana', 2), ('cherry', 5), ('orange', 1)])\n"
     ]
    }
   ],
   "source": [
    "# We can display the OrderedDict to see how the order of insertion is preserved\n",
    "print(ordered_dict)"
   ]
  },
  {
   "cell_type": "code",
   "execution_count": 12,
   "id": "83a5cd5b",
   "metadata": {},
   "outputs": [
    {
     "name": "stdout",
     "output_type": "stream",
     "text": [
      "2\n"
     ]
    }
   ],
   "source": [
    "# We can access values with keys just like with a standard dictionary\n",
    "print(ordered_dict['banana']) # 2 should be the output"
   ]
  },
  {
   "cell_type": "code",
   "execution_count": 13,
   "id": "6509dc86",
   "metadata": {},
   "outputs": [
    {
     "name": "stdout",
     "output_type": "stream",
     "text": [
      "apple 3\n",
      "banana 2\n",
      "cherry 5\n",
      "orange 1\n"
     ]
    }
   ],
   "source": [
    "# One of the main advantages of an OrderedDict is that you can iterate through the elements in the order they were inserted\n",
    "for key, value in ordered_dict.items():\n",
    "    print(key, value)\n"
   ]
  },
  {
   "cell_type": "code",
   "execution_count": 14,
   "id": "213b4688",
   "metadata": {},
   "outputs": [
    {
     "name": "stdout",
     "output_type": "stream",
     "text": [
      "OrderedDict([('apple', 3), ('banana', 2), ('orange', 1), ('cherry', 5)])\n"
     ]
    }
   ],
   "source": [
    "# You can also reorder an OrderedDict by moving an element to the end. Here, we move \"cherry\" to the end.\n",
    "ordered_dict.move_to_end('cherry')\n",
    "print(ordered_dict)\n"
   ]
  },
  {
   "cell_type": "code",
   "execution_count": null,
   "id": "fefe5191",
   "metadata": {},
   "outputs": [],
   "source": []
  },
  {
   "cell_type": "code",
   "execution_count": null,
   "id": "5ec74071",
   "metadata": {},
   "outputs": [],
   "source": []
  }
 ],
 "metadata": {
  "kernelspec": {
   "display_name": "Python 3 (ipykernel)",
   "language": "python",
   "name": "python3"
  },
  "language_info": {
   "codemirror_mode": {
    "name": "ipython",
    "version": 3
   },
   "file_extension": ".py",
   "mimetype": "text/x-python",
   "name": "python",
   "nbconvert_exporter": "python",
   "pygments_lexer": "ipython3",
   "version": "3.9.13"
  }
 },
 "nbformat": 4,
 "nbformat_minor": 5
}
